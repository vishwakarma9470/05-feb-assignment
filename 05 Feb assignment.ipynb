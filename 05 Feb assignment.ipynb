{
 "cells": [
  {
   "cell_type": "markdown",
   "id": "df74bfa9",
   "metadata": {},
   "source": [
    "Q1.explain class and object with respect to object-oriented programming.give a suitable example."
   ]
  },
  {
   "cell_type": "code",
   "execution_count": 1,
   "id": "ffca6b07",
   "metadata": {},
   "outputs": [
    {
     "name": "stdout",
     "output_type": "stream",
     "text": [
      "red\n"
     ]
    }
   ],
   "source": [
    "class car :\n",
    "    def __init__(self, color, model):\n",
    "        self.color = color\n",
    "        self.model = model\n",
    "    def get_color(self):\n",
    "        return self.color\n",
    "my_car = car(\"red\",\"sedom\")\n",
    "print(my_car.get_color())"
   ]
  },
  {
   "cell_type": "markdown",
   "id": "f9cd8d97",
   "metadata": {},
   "source": [
    "In object-oriented programming (OOP), a class is a blueprint or template for creating objects that encapsulate data and behavior. It defines a set of attributes (data) and methods (functions) that define the behavior of objects that belong to the class.\n",
    "\n",
    "An object is an instance of a class. It is a specific realization of the class, created from the class blueprint, that contains its own unique data and behavior."
   ]
  },
  {
   "cell_type": "markdown",
   "id": "37aad940",
   "metadata": {},
   "source": [
    "Q2. Name the four pillars of oops."
   ]
  },
  {
   "cell_type": "markdown",
   "id": "a7f36099",
   "metadata": {},
   "source": [
    "the four pillars of object-oriented programming(oop) are:\n",
    "    1.Encapsulation:Encapsulation refers to the bundling of data and methods (functions) that manipulate the data into a single unit, which is the class. This makes it easier to manage the complexity of the program, and ensures that the data and methods are only accessed and modified in a controlled and consistent manner.\n",
    "    2. Inheritance:  Inheritance is the mechanism by which a new class is derived from an existing class, inheriting all the properties and methods of the parent class. This enables the creation of more specialized classes that inherit the common properties and methods from the parent class, and can add their own specific properties and methods.\n",
    "    3. Polymoriphism:  Polymorphism is the ability of objects of different classes to be treated as if they were objects of the same class. This is achieved through inheritance and interface implementation, and allows for more flexibility and extensibility in the design of programs. It enables the creation of generic code that can work with a variety of different types of objects, without needing to know their specific type at compile time.\n",
    "    4. Abstractin: Abstraction refers to the process of focusing on the essential features of an object or system, while ignoring the irrelevant details. It enables the creation of models that capture the key characteristics of the object or system, and hides the implementation details from the user. This makes it easier to understand and work with the object or system.\n",
    "\n",
    "\n",
    "\n",
    " "
   ]
  },
  {
   "cell_type": "markdown",
   "id": "a1c51c3c",
   "metadata": {},
   "source": [
    "Q3.Explain why the __init__() functin is used. Give a suitable example."
   ]
  },
  {
   "cell_type": "markdown",
   "id": "df68cded",
   "metadata": {},
   "source": [
    "The __init__ method is similar to constructors in C++ and Java. Constructors are used to initialize the object’s state. Like methods, a constructor also contains a collection of statements(i.e. instructions) that are executed at the time of Object creation. It runs as soon as an object of a class is instantiated. The method is useful to do any initialization you want to do with your object."
   ]
  },
  {
   "cell_type": "code",
   "execution_count": 5,
   "id": "c861da04",
   "metadata": {},
   "outputs": [
    {
     "name": "stdout",
     "output_type": "stream",
     "text": [
      " my name is  manish vishwakarma\n"
     ]
    }
   ],
   "source": [
    "class hostle:\n",
    "    def __init__(self, name):\n",
    "        self.name = name\n",
    "        \n",
    "    def hello(self):\n",
    "        print(\" my name is \",self.name)\n",
    "       \n",
    "svm = hostle('manish vishwakarma')\n",
    "\n",
    "svm.hello()"
   ]
  },
  {
   "cell_type": "markdown",
   "id": "fccbbe1f",
   "metadata": {},
   "source": [
    "Q4.why self is used in oops?"
   ]
  },
  {
   "cell_type": "markdown",
   "id": "714730cf",
   "metadata": {},
   "source": [
    "In object-oriented programming (OOP), self is used to refer to the instance of a class. It is a reference to the object that is calling the method or accessing the attribute.\n",
    "\n",
    "In Python, self is a convention that is used as the first parameter of instance methods. When an instance method is called on an object, the object is passed as the self parameter automatically. This allows the method to access and modify the object's attributes and methods."
   ]
  },
  {
   "cell_type": "markdown",
   "id": "77a70301",
   "metadata": {},
   "source": [
    "Q5. What is ingeritance? Give an example for each type of inheritance."
   ]
  },
  {
   "cell_type": "markdown",
   "id": "f957c881",
   "metadata": {},
   "source": [
    "Inheritance is one of the four pillars of object-oriented programming (OOP), and it allows us to create new classes based on existing classes. In inheritance, the new class inherits the properties and methods of the existing class, and can also add new properties and methods or override the existing ones.\n",
    "\n",
    "there are four types of inheritance:\n",
    "\n",
    "1.single inheritance: In single inheritance, a subclass is derived is from a single superclass. That is, the subclass inherits the properties and methods of a single superclass.\n",
    "\n",
    "example:"
   ]
  },
  {
   "cell_type": "code",
   "execution_count": 6,
   "id": "85563df2",
   "metadata": {},
   "outputs": [
    {
     "name": "stdout",
     "output_type": "stream",
     "text": [
      "Fido\n",
      "Dog barks\n"
     ]
    }
   ],
   "source": [
    "class Animal:\n",
    "    def __init__(self, name):\n",
    "        self.name = name\n",
    "\n",
    "    def speak(self):\n",
    "        print(\"Animal speaks\")\n",
    "\n",
    "class Dog(Animal):\n",
    "    def __init__(self, name):\n",
    "        super().__init__(name)\n",
    "\n",
    "    def speak(self):\n",
    "        print(\"Dog barks\")\n",
    "\n",
    "dog = Dog(\"Fido\")\n",
    "print(dog.name)  \n",
    "dog.speak()      \n"
   ]
  },
  {
   "cell_type": "markdown",
   "id": "8e45ebb4",
   "metadata": {},
   "source": [
    "2. Multiple inheritance: In multiple inheritance, a subclass is derived from two or more superclass. that is, the subclass inherits the properties and methods of multiple superclasses.\n",
    "\n",
    "example:"
   ]
  },
  {
   "cell_type": "code",
   "execution_count": 8,
   "id": "410a793f",
   "metadata": {},
   "outputs": [
    {
     "name": "stdout",
     "output_type": "stream",
     "text": [
      "I can fly\n",
      "I can swim\n"
     ]
    }
   ],
   "source": [
    "class Flyer:\n",
    "    def fly(self):\n",
    "        print(\"I can fly\")\n",
    "\n",
    "class Swimmer:\n",
    "    def swim(self):\n",
    "        print(\"I can swim\")\n",
    "\n",
    "class Duck(Flyer, Swimmer):\n",
    "    pass\n",
    "\n",
    "duck = Duck()\n",
    "duck.fly()    \n",
    "duck.swim()   \n"
   ]
  },
  {
   "cell_type": "markdown",
   "id": "cb713a54",
   "metadata": {},
   "source": [
    "3.Multilevel inheritance: In multilevel inheritance, a subclass is derived from a superclass, which in rurn is derived from another suprclass. that is, the subclass inherits the properties and methods of both the immediate superclass and its own superclass.\n",
    "\n",
    "example:"
   ]
  },
  {
   "cell_type": "code",
   "execution_count": 7,
   "id": "adaf7a78",
   "metadata": {},
   "outputs": [
    {
     "name": "stdout",
     "output_type": "stream",
     "text": [
      "Tom\n",
      "I can feed my baby with milk\n",
      "Meow\n"
     ]
    }
   ],
   "source": [
    "class Animal:\n",
    "    def __init__(self, name):\n",
    "        self.name = name\n",
    "\n",
    "class Mammal(Animal):\n",
    "    def feed_baby_with_milk(self):\n",
    "        print(\"I can feed my baby with milk\")\n",
    "\n",
    "class Cat(Mammal):\n",
    "    def __init__(self, name):\n",
    "        super().__init__(name)\n",
    "\n",
    "    def speak(self):\n",
    "        print(\"Meow\")\n",
    "\n",
    "cat = Cat(\"Tom\")\n",
    "print(cat.name)  # Output: Tom\n",
    "cat.feed_baby_with_milk()  # Output: I can feed my baby with milk\n",
    "cat.speak()  # Output: Meow\n"
   ]
  },
  {
   "cell_type": "markdown",
   "id": "88b1329c",
   "metadata": {},
   "source": [
    "4.hierachical inheritance: In hierachical inheritance, a superclass is inherited by two or more subclassses. that is, multiple subclasses inherit the properties and methods of a single superclass.\n",
    "\n",
    "example:"
   ]
  },
  {
   "cell_type": "code",
   "execution_count": 9,
   "id": "b42860b8",
   "metadata": {},
   "outputs": [],
   "source": [
    "class Shape:\n",
    "    def draw(self):\n",
    "        print(\"I can draw a shape\")\n",
    "\n",
    "class Circle(Shape):\n",
    "    def __init__(self, radius):\n",
    "        self\n"
   ]
  },
  {
   "cell_type": "code",
   "execution_count": null,
   "id": "d49ec035",
   "metadata": {},
   "outputs": [],
   "source": []
  },
  {
   "cell_type": "code",
   "execution_count": null,
   "id": "5454e1ac",
   "metadata": {},
   "outputs": [],
   "source": []
  }
 ],
 "metadata": {
  "kernelspec": {
   "display_name": "Python 3 (ipykernel)",
   "language": "python",
   "name": "python3"
  },
  "language_info": {
   "codemirror_mode": {
    "name": "ipython",
    "version": 3
   },
   "file_extension": ".py",
   "mimetype": "text/x-python",
   "name": "python",
   "nbconvert_exporter": "python",
   "pygments_lexer": "ipython3",
   "version": "3.10.10"
  }
 },
 "nbformat": 4,
 "nbformat_minor": 5
}
